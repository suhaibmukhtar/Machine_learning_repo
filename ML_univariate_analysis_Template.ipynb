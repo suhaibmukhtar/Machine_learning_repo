{
 "cells": [
  {
   "cell_type": "markdown",
   "id": "b685c112",
   "metadata": {},
   "source": [
    "### Import libraries"
   ]
  },
  {
   "cell_type": "code",
   "execution_count": 1,
   "id": "74848215",
   "metadata": {},
   "outputs": [],
   "source": [
    "import pandas as pd\n",
    "import numpy as np\n",
    "import matplotlib.pyplot as plt\n",
    "import seaborn as sns"
   ]
  },
  {
   "cell_type": "markdown",
   "id": "3429963a",
   "metadata": {},
   "source": [
    "## Read data"
   ]
  },
  {
   "cell_type": "code",
   "execution_count": 3,
   "id": "a2eaf293",
   "metadata": {},
   "outputs": [],
   "source": [
    "df=pd.read_excel('updated_movies.xlsx')"
   ]
  },
  {
   "cell_type": "code",
   "execution_count": 13,
   "id": "22ec0bf4",
   "metadata": {},
   "outputs": [],
   "source": [
    "df.drop(['Unnamed: 0'],axis=1,inplace=True)"
   ]
  },
  {
   "cell_type": "markdown",
   "id": "a9200c80",
   "metadata": {},
   "source": [
    "## 7 Question to ask"
   ]
  },
  {
   "cell_type": "markdown",
   "id": "f854b55c",
   "metadata": {},
   "source": [
    "#### Q1 How big is data"
   ]
  },
  {
   "cell_type": "code",
   "execution_count": 14,
   "id": "bab73952",
   "metadata": {},
   "outputs": [
    {
     "data": {
      "text/plain": [
       "(10920, 7)"
      ]
     },
     "execution_count": 14,
     "metadata": {},
     "output_type": "execute_result"
    }
   ],
   "source": [
    "df.shape"
   ]
  },
  {
   "cell_type": "markdown",
   "id": "ef3c1641",
   "metadata": {},
   "source": [
    "#### Q2 How data looks like, select any 5 random samples"
   ]
  },
  {
   "cell_type": "code",
   "execution_count": 15,
   "id": "f4adcb0e",
   "metadata": {},
   "outputs": [
    {
     "data": {
      "text/html": [
       "<div>\n",
       "<style scoped>\n",
       "    .dataframe tbody tr th:only-of-type {\n",
       "        vertical-align: middle;\n",
       "    }\n",
       "\n",
       "    .dataframe tbody tr th {\n",
       "        vertical-align: top;\n",
       "    }\n",
       "\n",
       "    .dataframe thead th {\n",
       "        text-align: right;\n",
       "    }\n",
       "</style>\n",
       "<table border=\"1\" class=\"dataframe\">\n",
       "  <thead>\n",
       "    <tr style=\"text-align: right;\">\n",
       "      <th></th>\n",
       "      <th>id</th>\n",
       "      <th>title</th>\n",
       "      <th>popularity</th>\n",
       "      <th>overview</th>\n",
       "      <th>release_date</th>\n",
       "      <th>vote_average</th>\n",
       "      <th>vote_count</th>\n",
       "    </tr>\n",
       "  </thead>\n",
       "  <tbody>\n",
       "    <tr>\n",
       "      <th>6224</th>\n",
       "      <td>424</td>\n",
       "      <td>Schindler's List</td>\n",
       "      <td>44.517</td>\n",
       "      <td>The true story of how businessman Oskar Schind...</td>\n",
       "      <td>1993-12-15</td>\n",
       "      <td>8.6</td>\n",
       "      <td>13888</td>\n",
       "    </tr>\n",
       "    <tr>\n",
       "      <th>2490</th>\n",
       "      <td>155</td>\n",
       "      <td>The Dark Knight</td>\n",
       "      <td>80.710</td>\n",
       "      <td>Batman raises the stakes in his war on crime. ...</td>\n",
       "      <td>2008-07-14</td>\n",
       "      <td>8.5</td>\n",
       "      <td>29395</td>\n",
       "    </tr>\n",
       "    <tr>\n",
       "      <th>5126</th>\n",
       "      <td>129</td>\n",
       "      <td>Spirited Away</td>\n",
       "      <td>94.781</td>\n",
       "      <td>A young girl, Chihiro, becomes trapped in a st...</td>\n",
       "      <td>2001-07-20</td>\n",
       "      <td>8.5</td>\n",
       "      <td>14091</td>\n",
       "    </tr>\n",
       "    <tr>\n",
       "      <th>7607</th>\n",
       "      <td>389</td>\n",
       "      <td>12 Angry Men</td>\n",
       "      <td>32.747</td>\n",
       "      <td>The defense and the prosecution have rested an...</td>\n",
       "      <td>1957-04-10</td>\n",
       "      <td>8.5</td>\n",
       "      <td>7134</td>\n",
       "    </tr>\n",
       "    <tr>\n",
       "      <th>7921</th>\n",
       "      <td>278</td>\n",
       "      <td>The Shawshank Redemption</td>\n",
       "      <td>75.705</td>\n",
       "      <td>Framed in the 1940s for the double murder of h...</td>\n",
       "      <td>1994-09-23</td>\n",
       "      <td>8.7</td>\n",
       "      <td>23485</td>\n",
       "    </tr>\n",
       "  </tbody>\n",
       "</table>\n",
       "</div>"
      ],
      "text/plain": [
       "       id                     title  popularity  \\\n",
       "6224  424          Schindler's List      44.517   \n",
       "2490  155           The Dark Knight      80.710   \n",
       "5126  129             Spirited Away      94.781   \n",
       "7607  389              12 Angry Men      32.747   \n",
       "7921  278  The Shawshank Redemption      75.705   \n",
       "\n",
       "                                               overview release_date  \\\n",
       "6224  The true story of how businessman Oskar Schind...   1993-12-15   \n",
       "2490  Batman raises the stakes in his war on crime. ...   2008-07-14   \n",
       "5126  A young girl, Chihiro, becomes trapped in a st...   2001-07-20   \n",
       "7607  The defense and the prosecution have rested an...   1957-04-10   \n",
       "7921  Framed in the 1940s for the double murder of h...   1994-09-23   \n",
       "\n",
       "      vote_average  vote_count  \n",
       "6224           8.6       13888  \n",
       "2490           8.5       29395  \n",
       "5126           8.5       14091  \n",
       "7607           8.5        7134  \n",
       "7921           8.7       23485  "
      ]
     },
     "execution_count": 15,
     "metadata": {},
     "output_type": "execute_result"
    }
   ],
   "source": [
    "df.sample(5)"
   ]
  },
  {
   "cell_type": "markdown",
   "id": "f91e2fd0",
   "metadata": {},
   "source": [
    "#### Q3 What is the type of Columns"
   ]
  },
  {
   "cell_type": "code",
   "execution_count": 16,
   "id": "da1dbc5d",
   "metadata": {},
   "outputs": [
    {
     "name": "stdout",
     "output_type": "stream",
     "text": [
      "<class 'pandas.core.frame.DataFrame'>\n",
      "RangeIndex: 10920 entries, 0 to 10919\n",
      "Data columns (total 7 columns):\n",
      " #   Column        Non-Null Count  Dtype  \n",
      "---  ------        --------------  -----  \n",
      " 0   id            10920 non-null  int64  \n",
      " 1   title         10920 non-null  object \n",
      " 2   popularity    10920 non-null  float64\n",
      " 3   overview      10920 non-null  object \n",
      " 4   release_date  10920 non-null  object \n",
      " 5   vote_average  10920 non-null  float64\n",
      " 6   vote_count    10920 non-null  int64  \n",
      "dtypes: float64(2), int64(2), object(3)\n",
      "memory usage: 597.3+ KB\n"
     ]
    }
   ],
   "source": [
    "df.info()"
   ]
  },
  {
   "cell_type": "markdown",
   "id": "c733a666",
   "metadata": {},
   "source": [
    "#### Q4 Check for missing values"
   ]
  },
  {
   "cell_type": "code",
   "execution_count": 17,
   "id": "1958fb30",
   "metadata": {},
   "outputs": [
    {
     "data": {
      "text/plain": [
       "id              0\n",
       "title           0\n",
       "popularity      0\n",
       "overview        0\n",
       "release_date    0\n",
       "vote_average    0\n",
       "vote_count      0\n",
       "dtype: int64"
      ]
     },
     "execution_count": 17,
     "metadata": {},
     "output_type": "execute_result"
    }
   ],
   "source": [
    "df.isnull().sum()"
   ]
  },
  {
   "cell_type": "markdown",
   "id": "9d0bd780",
   "metadata": {},
   "source": [
    "#### Q5 How does the data look mathematically"
   ]
  },
  {
   "cell_type": "code",
   "execution_count": 18,
   "id": "5a1bc6bb",
   "metadata": {},
   "outputs": [
    {
     "data": {
      "text/html": [
       "<div>\n",
       "<style scoped>\n",
       "    .dataframe tbody tr th:only-of-type {\n",
       "        vertical-align: middle;\n",
       "    }\n",
       "\n",
       "    .dataframe tbody tr th {\n",
       "        vertical-align: top;\n",
       "    }\n",
       "\n",
       "    .dataframe thead th {\n",
       "        text-align: right;\n",
       "    }\n",
       "</style>\n",
       "<table border=\"1\" class=\"dataframe\">\n",
       "  <thead>\n",
       "    <tr style=\"text-align: right;\">\n",
       "      <th></th>\n",
       "      <th>id</th>\n",
       "      <th>popularity</th>\n",
       "      <th>vote_average</th>\n",
       "      <th>vote_count</th>\n",
       "    </tr>\n",
       "  </thead>\n",
       "  <tbody>\n",
       "    <tr>\n",
       "      <th>count</th>\n",
       "      <td>10920.000000</td>\n",
       "      <td>10920.000000</td>\n",
       "      <td>10920.000000</td>\n",
       "      <td>10920.000000</td>\n",
       "    </tr>\n",
       "    <tr>\n",
       "      <th>mean</th>\n",
       "      <td>186814.500000</td>\n",
       "      <td>60.623100</td>\n",
       "      <td>8.540000</td>\n",
       "      <td>12532.750000</td>\n",
       "    </tr>\n",
       "    <tr>\n",
       "      <th>std</th>\n",
       "      <td>308914.318232</td>\n",
       "      <td>28.010753</td>\n",
       "      <td>0.066336</td>\n",
       "      <td>8842.252803</td>\n",
       "    </tr>\n",
       "    <tr>\n",
       "      <th>min</th>\n",
       "      <td>13.000000</td>\n",
       "      <td>11.065000</td>\n",
       "      <td>8.500000</td>\n",
       "      <td>212.000000</td>\n",
       "    </tr>\n",
       "    <tr>\n",
       "      <th>25%</th>\n",
       "      <td>239.500000</td>\n",
       "      <td>35.917250</td>\n",
       "      <td>8.500000</td>\n",
       "      <td>6371.000000</td>\n",
       "    </tr>\n",
       "    <tr>\n",
       "      <th>50%</th>\n",
       "      <td>463.000000</td>\n",
       "      <td>64.478500</td>\n",
       "      <td>8.500000</td>\n",
       "      <td>12493.500000</td>\n",
       "    </tr>\n",
       "    <tr>\n",
       "      <th>75%</th>\n",
       "      <td>372232.000000</td>\n",
       "      <td>79.897750</td>\n",
       "      <td>8.600000</td>\n",
       "      <td>18567.250000</td>\n",
       "    </tr>\n",
       "    <tr>\n",
       "      <th>max</th>\n",
       "      <td>995133.000000</td>\n",
       "      <td>109.360000</td>\n",
       "      <td>8.700000</td>\n",
       "      <td>29395.000000</td>\n",
       "    </tr>\n",
       "  </tbody>\n",
       "</table>\n",
       "</div>"
      ],
      "text/plain": [
       "                  id    popularity  vote_average    vote_count\n",
       "count   10920.000000  10920.000000  10920.000000  10920.000000\n",
       "mean   186814.500000     60.623100      8.540000  12532.750000\n",
       "std    308914.318232     28.010753      0.066336   8842.252803\n",
       "min        13.000000     11.065000      8.500000    212.000000\n",
       "25%       239.500000     35.917250      8.500000   6371.000000\n",
       "50%       463.000000     64.478500      8.500000  12493.500000\n",
       "75%    372232.000000     79.897750      8.600000  18567.250000\n",
       "max    995133.000000    109.360000      8.700000  29395.000000"
      ]
     },
     "execution_count": 18,
     "metadata": {},
     "output_type": "execute_result"
    }
   ],
   "source": [
    "df.describe()"
   ]
  },
  {
   "cell_type": "markdown",
   "id": "aa1b8c45",
   "metadata": {},
   "source": [
    "#### Q6 Are there any duplicate values"
   ]
  },
  {
   "cell_type": "code",
   "execution_count": 21,
   "id": "9522def5",
   "metadata": {},
   "outputs": [
    {
     "data": {
      "text/plain": [
       "10900"
      ]
     },
     "execution_count": 21,
     "metadata": {},
     "output_type": "execute_result"
    }
   ],
   "source": [
    "df.duplicated().sum()"
   ]
  },
  {
   "cell_type": "markdown",
   "id": "916c89d3",
   "metadata": {},
   "source": [
    "#### Q7 How is correlation b/w columns"
   ]
  },
  {
   "cell_type": "code",
   "execution_count": 28,
   "id": "cf596f84",
   "metadata": {},
   "outputs": [
    {
     "data": {
      "text/html": [
       "<div>\n",
       "<style scoped>\n",
       "    .dataframe tbody tr th:only-of-type {\n",
       "        vertical-align: middle;\n",
       "    }\n",
       "\n",
       "    .dataframe tbody tr th {\n",
       "        vertical-align: top;\n",
       "    }\n",
       "\n",
       "    .dataframe thead th {\n",
       "        text-align: right;\n",
       "    }\n",
       "</style>\n",
       "<table border=\"1\" class=\"dataframe\">\n",
       "  <thead>\n",
       "    <tr style=\"text-align: right;\">\n",
       "      <th></th>\n",
       "      <th>id</th>\n",
       "      <th>popularity</th>\n",
       "      <th>vote_average</th>\n",
       "      <th>vote_count</th>\n",
       "    </tr>\n",
       "  </thead>\n",
       "  <tbody>\n",
       "    <tr>\n",
       "      <th>id</th>\n",
       "      <td>1.000000</td>\n",
       "      <td>-0.451520</td>\n",
       "      <td>-0.171142</td>\n",
       "      <td>-0.635207</td>\n",
       "    </tr>\n",
       "    <tr>\n",
       "      <th>popularity</th>\n",
       "      <td>-0.451520</td>\n",
       "      <td>1.000000</td>\n",
       "      <td>0.144241</td>\n",
       "      <td>0.674108</td>\n",
       "    </tr>\n",
       "    <tr>\n",
       "      <th>vote_average</th>\n",
       "      <td>-0.171142</td>\n",
       "      <td>0.144241</td>\n",
       "      <td>1.000000</td>\n",
       "      <td>0.092728</td>\n",
       "    </tr>\n",
       "    <tr>\n",
       "      <th>vote_count</th>\n",
       "      <td>-0.635207</td>\n",
       "      <td>0.674108</td>\n",
       "      <td>0.092728</td>\n",
       "      <td>1.000000</td>\n",
       "    </tr>\n",
       "  </tbody>\n",
       "</table>\n",
       "</div>"
      ],
      "text/plain": [
       "                    id  popularity  vote_average  vote_count\n",
       "id            1.000000   -0.451520     -0.171142   -0.635207\n",
       "popularity   -0.451520    1.000000      0.144241    0.674108\n",
       "vote_average -0.171142    0.144241      1.000000    0.092728\n",
       "vote_count   -0.635207    0.674108      0.092728    1.000000"
      ]
     },
     "execution_count": 28,
     "metadata": {},
     "output_type": "execute_result"
    }
   ],
   "source": [
    "df.corr()"
   ]
  },
  {
   "cell_type": "markdown",
   "id": "de9d7f97",
   "metadata": {},
   "source": [
    "##### To show graphically how columns are correlated wit eachother"
   ]
  },
  {
   "cell_type": "code",
   "execution_count": 29,
   "id": "6edc387b",
   "metadata": {},
   "outputs": [
    {
     "data": {
      "image/png": "[encoded data removed]",
      "text/plain": [
       "<Figure size 1000x1000 with 20 Axes>"
      ]
     },
     "metadata": {},
     "output_type": "display_data"
    }
   ],
   "source": [
    "sns.pairplot(df)\n",
    "plt.show()"
   ]
  },
  {
   "cell_type": "markdown",
   "id": "f81b5700",
   "metadata": {},
   "source": [
    "#### 7.1 To find correlation of one column with others"
   ]
  },
  {
   "cell_type": "code",
   "execution_count": 34,
   "id": "115c5b34",
   "metadata": {},
   "outputs": [
    {
     "data": {
      "text/plain": [
       "id             -0.451520\n",
       "popularity      1.000000\n",
       "vote_average    0.144241\n",
       "vote_count      0.674108\n",
       "Name: popularity, dtype: float64"
      ]
     },
     "execution_count": 34,
     "metadata": {},
     "output_type": "execute_result"
    }
   ],
   "source": [
    "df.corr()['popularity']"
   ]
  },
  {
   "cell_type": "code",
   "execution_count": null,
   "id": "87803673",
   "metadata": {},
   "outputs": [],
   "source": []
  }
 ],
 "metadata": {
  "kernelspec": {
   "display_name": "Python 3 (ipykernel)",
   "language": "python",
   "name": "python3"
  },
  "language_info": {
   "codemirror_mode": {
    "name": "ipython",
    "version": 3
   },
   "file_extension": ".py",
   "mimetype": "text/x-python",
   "name": "python",
   "nbconvert_exporter": "python",
   "pygments_lexer": "ipython3",
   "version": "3.9.13"
  }
 },
 "nbformat": 4,
 "nbformat_minor": 5
}
