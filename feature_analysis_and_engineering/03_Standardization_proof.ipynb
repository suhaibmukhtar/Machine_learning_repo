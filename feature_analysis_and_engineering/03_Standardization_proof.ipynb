{
 "cells": [
  {
   "cell_type": "code",
   "execution_count": 22,
   "id": "e0645264",
   "metadata": {},
   "outputs": [],
   "source": [
    "import pandas as pd\n",
    "import seaborn as sns\n",
    "from sklearn.preprocessing import StandardScaler, normalize\n",
    "import scipy.stats as scs\n",
    "import matplotlib.pyplot as plt\n"
   ]
  },
  {
   "cell_type": "markdown",
   "id": "394cff17",
   "metadata": {},
   "source": [
    "### Loading the tips dataset from seaborn"
   ]
  },
  {
   "cell_type": "code",
   "execution_count": 5,
   "id": "fd60ace6",
   "metadata": {},
   "outputs": [
    {
     "data": {
      "image/png": "[encoded data removed]",
      "text/plain": [
       "<Figure size 640x480 with 1 Axes>"
      ]
     },
     "metadata": {},
     "output_type": "display_data"
    }
   ],
   "source": [
    "# Pull a dataset\n",
    "df = sns.load_dataset('tips')\n",
    "# Histogram of tip variable\n",
    "sns.histplot(data=df, x='tip');"
   ]
  },
  {
   "cell_type": "markdown",
   "id": "066ab70d",
   "metadata": {},
   "source": [
    "### Proof standardization does'nt changes distribution of data it only scales the features in the fixed range, so that each feature will be treated similarly and when we calculate the loss the error will be minimum and convergence rate will be high and quick to global minima"
   ]
  },
  {
   "cell_type": "code",
   "execution_count": 6,
   "id": "6b688fc2",
   "metadata": {},
   "outputs": [],
   "source": [
    "from sklearn.preprocessing import StandardScaler"
   ]
  },
  {
   "cell_type": "code",
   "execution_count": 10,
   "id": "09005339",
   "metadata": {},
   "outputs": [],
   "source": [
    "scaler=StandardScaler()\n",
    "transformed_df=scaler.fit_transform(df[['tip']])"
   ]
  },
  {
   "cell_type": "code",
   "execution_count": 33,
   "id": "f7f36f73",
   "metadata": {},
   "outputs": [
    {
     "data": {
      "text/plain": [
       "array([[-1.43994695e+00],\n",
       "       [-9.69205340e-01],\n",
       "       [ 3.63355539e-01],\n",
       "       [ 2.25754144e-01],\n",
       "       [ 4.43019505e-01],\n",
       "       [ 1.23965916e+00],\n",
       "       [-7.22971264e-01],\n",
       "       [ 8.81527488e-02],\n",
       "       [-7.51939979e-01],\n",
       "       [ 1.67816714e-01],\n",
       "       [-9.32994446e-01],\n",
       "       [ 1.44968234e+00],\n",
       "       [-1.03438495e+00],\n",
       "       [ 1.24660453e-03],\n",
       "       [ 1.57309619e-02],\n",
       "       [ 6.67527044e-01],\n",
       "       [-9.61963161e-01],\n",
       "       [ 5.15441291e-01],\n",
       "       [ 3.63355539e-01],\n",
       "       [ 2.54722859e-01],\n",
       "       [ 7.83401903e-01],\n",
       "       [-1.79807863e-01],\n",
       "       [-5.56401155e-01],\n",
       "       [ 3.31816444e+00],\n",
       "       [ 1.31605821e-01],\n",
       "       [-4.76737189e-01],\n",
       "       [-7.22971264e-01],\n",
       "       [-7.22971264e-01],\n",
       "       [ 9.42729834e-01],\n",
       "       [ 1.24660453e-03],\n",
       "       [-1.12129109e+00],\n",
       "       [-3.60862330e-01],\n",
       "       [ 1.24660453e-03],\n",
       "       [-3.97073223e-01],\n",
       "       [ 1.96785429e-01],\n",
       "       [ 4.35777326e-01],\n",
       "       [-7.22971264e-01],\n",
       "       [ 5.19418554e-02],\n",
       "       [-4.98463725e-01],\n",
       "       [ 1.44968234e+00],\n",
       "       [-5.49158976e-01],\n",
       "       [-3.31893615e-01],\n",
       "       [ 4.46996767e-02],\n",
       "       [-1.21543942e+00],\n",
       "       [ 1.88421306e+00],\n",
       "       [ 1.24660453e-03],\n",
       "       [ 1.44968234e+00],\n",
       "       [ 2.17390021e+00],\n",
       "       [-6.86760371e-01],\n",
       "       [ 1.24660453e-03],\n",
       "       [-3.60862330e-01],\n",
       "       [-2.88440543e-01],\n",
       "       [ 1.59452592e+00],\n",
       "       [-1.04162713e+00],\n",
       "       [ 9.71698549e-01],\n",
       "       [ 3.70597718e-01],\n",
       "       [ 1.24660453e-03],\n",
       "       [-1.08508020e+00],\n",
       "       [-8.96783553e-01],\n",
       "       [ 2.70257926e+00],\n",
       "       [ 1.53332357e-01],\n",
       "       [-7.22971264e-01],\n",
       "       [-7.37455622e-01],\n",
       "       [ 5.51652185e-01],\n",
       "       [-2.59471828e-01],\n",
       "       [ 1.09879285e-01],\n",
       "       [-3.82588866e-01],\n",
       "       [-1.44718913e+00],\n",
       "       [-7.15729086e-01],\n",
       "       [-6.57791656e-01],\n",
       "       [-7.44697800e-01],\n",
       "       [ 1.24660453e-03],\n",
       "       [ 1.02637106e-01],\n",
       "       [ 1.44968234e+00],\n",
       "       [-5.78127691e-01],\n",
       "       [-1.26613467e+00],\n",
       "       [ 5.91840340e-02],\n",
       "       [ 7.25464473e-01],\n",
       "       [ 1.24660453e-03],\n",
       "       [-2.08776577e-01],\n",
       "       [ 1.24660453e-03],\n",
       "       [ 2.90933752e-01],\n",
       "       [-8.46088302e-01],\n",
       "       [ 1.44968234e+00],\n",
       "       [-7.01244728e-01],\n",
       "       [ 1.57279938e+00],\n",
       "       [-7.22971264e-01],\n",
       "       [ 7.25464473e-01],\n",
       "       [ 2.06526753e+00],\n",
       "       [ 1.24660453e-03],\n",
       "       [ 1.24660453e-03],\n",
       "       [ 3.63355539e-01],\n",
       "       [-1.44718913e+00],\n",
       "       [ 9.42729834e-01],\n",
       "       [ 1.82301072e-01],\n",
       "       [ 1.25414352e+00],\n",
       "       [ 7.25464473e-01],\n",
       "       [-1.08508020e+00],\n",
       "       [ 1.24660453e-03],\n",
       "       [-1.08508020e+00],\n",
       "       [-3.60862330e-01],\n",
       "       [ 1.24660453e-03],\n",
       "       [-3.60862330e-01],\n",
       "       [ 3.48871182e-01],\n",
       "       [ 7.83401903e-01],\n",
       "       [-9.83689697e-01],\n",
       "       [ 7.68917546e-01],\n",
       "       [ 9.35487655e-01],\n",
       "       [ 5.51652185e-01],\n",
       "       [ 7.25464473e-01],\n",
       "       [ 1.24660453e-03],\n",
       "       [-1.44718913e+00],\n",
       "       [ 7.25464473e-01],\n",
       "       [-3.24651436e-01],\n",
       "       [ 7.25464473e-01],\n",
       "       [ 3.63355539e-01],\n",
       "       [ 1.50037759e+00],\n",
       "       [-1.08508020e+00],\n",
       "       [-8.67814838e-01],\n",
       "       [-5.66908250e-02],\n",
       "       [-4.98463725e-01],\n",
       "       [-9.54720982e-01],\n",
       "       [-3.60862330e-01],\n",
       "       [-7.22971264e-01],\n",
       "       [-3.46377973e-01],\n",
       "       [ 8.70308047e-01],\n",
       "       [-1.09956456e+00],\n",
       "       [-7.22971264e-01],\n",
       "       [-7.22971264e-01],\n",
       "       [-5.92612048e-01],\n",
       "       [-1.08508020e+00],\n",
       "       [-1.21870433e-01],\n",
       "       [-1.08508020e+00],\n",
       "       [-7.22971264e-01],\n",
       "       [ 1.82301072e-01],\n",
       "       [-1.26613467e+00],\n",
       "       [-7.22971264e-01],\n",
       "       [-7.22971264e-01],\n",
       "       [-7.22971264e-01],\n",
       "       [-1.79807863e-01],\n",
       "       [ 3.63355539e-01],\n",
       "       [ 2.68085272e+00],\n",
       "       [ 1.44968234e+00],\n",
       "       [ 1.44968234e+00],\n",
       "       [-5.05705904e-01],\n",
       "       [-1.08508020e+00],\n",
       "       [-1.18647070e+00],\n",
       "       [-9.90931876e-01],\n",
       "       [-9.18510089e-01],\n",
       "       [-7.22971264e-01],\n",
       "       [-3.60862330e-01],\n",
       "       [-7.22971264e-01],\n",
       "       [-1.87050041e-01],\n",
       "       [-7.22971264e-01],\n",
       "       [-7.22971264e-01],\n",
       "       [ 1.55107284e+00],\n",
       "       [ 1.44968234e+00],\n",
       "       [ 5.44410006e-01],\n",
       "       [-2.81198364e-01],\n",
       "       [-7.22971264e-01],\n",
       "       [ 3.63355539e-01],\n",
       "       [-3.60862330e-01],\n",
       "       [-7.22971264e-01],\n",
       "       [-7.22971264e-01],\n",
       "       [ 1.24660453e-03],\n",
       "       [ 3.48871182e-01],\n",
       "       [-5.49158976e-01],\n",
       "       [ 1.08757341e+00],\n",
       "       [-1.00541623e+00],\n",
       "       [-7.22971264e-01],\n",
       "       [ 5.07077169e+00],\n",
       "       [ 1.17121464e-01],\n",
       "       [ 1.55831502e+00],\n",
       "       [ 1.31605821e-01],\n",
       "       [ 7.25464473e-01],\n",
       "       [ 8.09105701e-02],\n",
       "       [-7.22971264e-01],\n",
       "       [-7.22971264e-01],\n",
       "       [ 7.25464473e-01],\n",
       "       [ 3.99566432e-01],\n",
       "       [ 4.93714755e-01],\n",
       "       [ 1.92042396e+00],\n",
       "       [ 3.63355539e-01],\n",
       "       [ 2.53600915e+00],\n",
       "       [ 1.24660453e-03],\n",
       "       [ 1.44968234e+00],\n",
       "       [ 3.63355539e-01],\n",
       "       [-7.22971264e-01],\n",
       "       [ 3.63355539e-01],\n",
       "       [ 7.25464473e-01],\n",
       "       [-1.08508020e+00],\n",
       "       [ 8.63065869e-01],\n",
       "       [-3.17409258e-01],\n",
       "       [-7.08486907e-01],\n",
       "       [ 7.25464473e-01],\n",
       "       [-1.12853327e+00],\n",
       "       [-7.22971264e-01],\n",
       "       [ 1.44968234e+00],\n",
       "       [-7.22971264e-01],\n",
       "       [-7.22971264e-01],\n",
       "       [ 7.25464473e-01],\n",
       "       [-7.15729086e-01],\n",
       "       [-7.22971264e-01],\n",
       "       [-3.60862330e-01],\n",
       "       [ 7.25464473e-01],\n",
       "       [ 1.67816714e-01],\n",
       "       [ 2.98175931e-01],\n",
       "       [ 1.24660453e-03],\n",
       "       [-7.01244728e-01],\n",
       "       [-5.56401155e-01],\n",
       "       [-7.22971264e-01],\n",
       "       [ 1.56555720e+00],\n",
       "       [ 4.34655382e+00],\n",
       "       [-3.60862330e-01],\n",
       "       [ 2.53600915e+00],\n",
       "       [-1.37476735e+00],\n",
       "       [ 1.24660453e-03],\n",
       "       [-1.08508020e+00],\n",
       "       [-1.12853327e+00],\n",
       "       [ 6.64262127e-02],\n",
       "       [-5.78127691e-01],\n",
       "       [ 3.48871182e-01],\n",
       "       [-7.80908694e-01],\n",
       "       [ 1.24660453e-03],\n",
       "       [-1.02714277e+00],\n",
       "       [-3.60862330e-01],\n",
       "       [-7.22971264e-01],\n",
       "       [ 1.24660453e-03],\n",
       "       [-2.01534399e-01],\n",
       "       [-8.56595397e-02],\n",
       "       [-7.22971264e-01],\n",
       "       [ 1.24660453e-03],\n",
       "       [ 2.83691573e-01],\n",
       "       [-1.10680673e+00],\n",
       "       [ 1.24660453e-03],\n",
       "       [-1.26613467e+00],\n",
       "       [-1.44718913e+00],\n",
       "       [-1.32407210e+00],\n",
       "       [ 1.21069045e+00],\n",
       "       [ 2.11596278e+00],\n",
       "       [-7.22971264e-01],\n",
       "       [-7.22971264e-01],\n",
       "       [-9.04025732e-01],\n",
       "       [ 1.24660453e-03]])"
      ]
     },
     "execution_count": 33,
     "metadata": {},
     "output_type": "execute_result"
    }
   ],
   "source": [
    "transformed_df"
   ]
  },
  {
   "cell_type": "code",
   "execution_count": 34,
   "id": "1e378175",
   "metadata": {},
   "outputs": [
    {
     "data": {
      "image/png": "[encoded data removed]",
      "text/plain": [
       "<Figure size 640x480 with 1 Axes>"
      ]
     },
     "metadata": {},
     "output_type": "display_data"
    }
   ],
   "source": [
    "sns.histplot(data=transformed_df);"
   ]
  },
  {
   "cell_type": "code",
   "execution_count": 36,
   "id": "58d7b153",
   "metadata": {},
   "outputs": [
    {
     "name": "stderr",
     "output_type": "stream",
     "text": [
      "C:\\ProgramData\\Anaconda3\\lib\\site-packages\\seaborn\\distributions.py:2619: FutureWarning: `distplot` is a deprecated function and will be removed in a future version. Please adapt your code to use either `displot` (a figure-level function with similar flexibility) or `histplot` (an axes-level function for histograms).\n",
      "  warnings.warn(msg, FutureWarning)\n"
     ]
    },
    {
     "data": {
      "image/png": "[encoded data removed]",
      "text/plain": [
       "<Figure size 640x480 with 1 Axes>"
      ]
     },
     "metadata": {},
     "output_type": "display_data"
    }
   ],
   "source": [
    "sns.distplot(transformed_df)\n",
    "plt.xlabel('Range of tip')\n",
    "plt.ylabel('Density')\n",
    "plt.title('Show the mean value is zero using KDE')\n",
    "plt.show()"
   ]
  },
  {
   "cell_type": "markdown",
   "id": "215d0dbb",
   "metadata": {},
   "source": [
    "### Mean=0 and standard deviation=1 proof "
   ]
  },
  {
   "cell_type": "code",
   "execution_count": 37,
   "id": "f63567af",
   "metadata": {},
   "outputs": [
    {
     "name": "stdout",
     "output_type": "stream",
     "text": [
      "Mean:..0.0\n",
      "Standard Deviation:...1.0\n"
     ]
    }
   ],
   "source": [
    "print(f\"Mean:..{transformed_df.mean().round()}\")\n",
    "print(f\"Standard Deviation:...{transformed_df.std().round()}\")"
   ]
  },
  {
   "cell_type": "code",
   "execution_count": null,
   "id": "ae0591fb",
   "metadata": {},
   "outputs": [],
   "source": []
  }
 ],
 "metadata": {
  "kernelspec": {
   "display_name": "Python 3 (ipykernel)",
   "language": "python",
   "name": "python3"
  },
  "language_info": {
   "codemirror_mode": {
    "name": "ipython",
    "version": 3
   },
   "file_extension": ".py",
   "mimetype": "text/x-python",
   "name": "python",
   "nbconvert_exporter": "python",
   "pygments_lexer": "ipython3",
   "version": "3.9.13"
  }
 },
 "nbformat": 4,
 "nbformat_minor": 5
}
