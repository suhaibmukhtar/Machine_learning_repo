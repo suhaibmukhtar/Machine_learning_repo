{
 "cells": [
  {
   "cell_type": "code",
   "execution_count": 225,
   "id": "20dbdb64",
   "metadata": {},
   "outputs": [],
   "source": [
    "import numpy as np\n",
    "import pandas as pd\n",
    "import matplotlib.pyplot as plt\n",
    "import seaborn as sns"
   ]
  },
  {
   "cell_type": "markdown",
   "id": "78a9ee79",
   "metadata": {},
   "source": [
    "## Loss"
   ]
  },
  {
   "cell_type": "code",
   "execution_count": 226,
   "id": "72fd0183",
   "metadata": {},
   "outputs": [],
   "source": [
    "def loss_function(x_train, y_train, params, alpha):\n",
    "    predicted_y = np.dot(params.T, x_train)\n",
    "    predicted_y = predicted_y.T\n",
    "    error = y_train - predicted_y\n",
    "\n",
    "    new_loss = np.dot(error.T, error)\n",
    "    new_lemda = np.dot(params[1:].T, params[1:])\n",
    "    loss = (1 / (2 * x_train.shape[1])) * (new_loss + alpha * new_lemda)\n",
    "\n",
    "    return loss[0][0]"
   ]
  },
  {
   "cell_type": "markdown",
   "id": "80729a1e",
   "metadata": {},
   "source": [
    "## Gradient Descent"
   ]
  },
  {
   "cell_type": "code",
   "execution_count": 227,
   "id": "4cfc071c",
   "metadata": {},
   "outputs": [],
   "source": [
    "def gradient_descent(x_train, y_train, params, alpha, learning_rate):\n",
    "    predicted_y = np.dot(params.T, x_train)\n",
    "    predicted_y = predicted_y.T  # reshape as 4,1\n",
    "    error = y_train - predicted_y\n",
    "    new_intercept = np.dot(error.T, x_train[0].reshape(-1, 1))\n",
    "    params[0] = params[0] - learning_rate * ((-1 / x_train.shape[1]) * new_intercept)\n",
    "#     # Gradient calculation without regularization for intercept\n",
    "    num = (-1 / x_train.shape[1]) * np.dot(error.T, x_train[1:].T)  # (1,4)x(4,2)==(1,2)\n",
    "#     # Gradient calculation with regularization for weights\n",
    "    den = (alpha / x_train.shape[1]) * np.dot(params[1:].T,params[1:])\n",
    "    new= num + den\n",
    "    params[1:]=new.T\n",
    "\n",
    "    return params"
   ]
  },
  {
   "cell_type": "markdown",
   "id": "24ae5e4e",
   "metadata": {},
   "source": [
    "## using epochs also"
   ]
  },
  {
   "cell_type": "code",
   "execution_count": 231,
   "id": "12b36882",
   "metadata": {},
   "outputs": [
    {
     "name": "stdout",
     "output_type": "stream",
     "text": [
      "Intercept:0.825,Weights:[1.5]\n",
      "Intercept:0.6174999999999999,Weights:[2.4125]\n",
      "Intercept:0.3394999999999999,Weights:[4.77820313]\n",
      "Intercept:-0.1472703125000001,Weights:[14.9190149]\n",
      "Intercept:-1.5994447708129886,Weights:[122.15412874]\n",
      "Intercept:-13.629913168080249,Weights:[7551.38145871]\n",
      "Intercept:-767.3800677224957,Weights:[28517337.4386289]\n",
      "Intercept:-2852424.36092384,Weights:[4.06619289e+14]\n",
      "Intercept:-40661931435375.08,Weights:[8.2669623e+28]\n",
      "Intercept:-8.266962296410077e+27,Weights:[3.41713328e+57]\n"
     ]
    }
   ],
   "source": [
    "epochs=10\n",
    "alpha=1\n",
    "x=np.array([\n",
    "    [1,1,1,1], #x0\n",
    "    [0,0,1,1], #x1\n",
    "    [0,1,0,1]  #x2\n",
    "])\n",
    "y=np.array([\n",
    "    [0],\n",
    "    [0],\n",
    "    [0],\n",
    "    [1]\n",
    "])\n",
    "params=np.ones(x.shape[0])\n",
    "params=params.reshape(-1,1)\n",
    "learning_rate=0.1\n",
    "\n",
    "\n",
    "for i in range(epochs):\n",
    "    loss=loss_function(x,y,params,alpha=1)\n",
    "    params=gradient_descent(x,y,params=params,alpha=1,learning_rate=0.1)\n",
    "    print(f'Intercept:{params[0][0]},Weights:{params[1:]}')\n",
    "    "
   ]
  },
  {
   "cell_type": "code",
   "execution_count": null,
   "id": "92f41b6e",
   "metadata": {},
   "outputs": [],
   "source": []
  }
 ],
 "metadata": {
  "kernelspec": {
   "display_name": "Python 3 (ipykernel)",
   "language": "python",
   "name": "python3"
  },
  "language_info": {
   "codemirror_mode": {
    "name": "ipython",
    "version": 3
   },
   "file_extension": ".py",
   "mimetype": "text/x-python",
   "name": "python",
   "nbconvert_exporter": "python",
   "pygments_lexer": "ipython3",
   "version": "3.9.13"
  }
 },
 "nbformat": 4,
 "nbformat_minor": 5
}
