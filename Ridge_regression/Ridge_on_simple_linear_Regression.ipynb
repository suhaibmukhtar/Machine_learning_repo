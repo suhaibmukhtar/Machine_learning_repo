{
 "cells": [
  {
   "cell_type": "code",
   "execution_count": 149,
   "id": "56123eee",
   "metadata": {},
   "outputs": [],
   "source": [
    "import numpy as np\n",
    "import pandas as pd\n",
    "import matplotlib.pyplot as plt\n",
    "import seaborn as sns"
   ]
  },
  {
   "cell_type": "code",
   "execution_count": 150,
   "id": "1352d9c2",
   "metadata": {},
   "outputs": [],
   "source": [
    "x=np.array([2,3,4])\n",
    "y=np.array([4,6,8])\n",
    "learning_rate=0.1\n",
    "alpha=1  #lemda in ml is denoted by\n",
    "epochs=1"
   ]
  },
  {
   "cell_type": "code",
   "execution_count": 151,
   "id": "22701558",
   "metadata": {},
   "outputs": [],
   "source": [
    "x=x.reshape(-1,1)\n",
    "y=y.reshape(-1,1)"
   ]
  },
  {
   "cell_type": "code",
   "execution_count": 152,
   "id": "47b0f449",
   "metadata": {},
   "outputs": [
    {
     "data": {
      "text/plain": [
       "(3, 1)"
      ]
     },
     "execution_count": 152,
     "metadata": {},
     "output_type": "execute_result"
    }
   ],
   "source": [
    "x.shape"
   ]
  },
  {
   "cell_type": "markdown",
   "id": "8082ee7b",
   "metadata": {},
   "source": [
    "### Loss for simple Ridge Regression"
   ]
  },
  {
   "cell_type": "code",
   "execution_count": 153,
   "id": "690d18ee",
   "metadata": {},
   "outputs": [],
   "source": [
    "def loss_function(x_train,y_train,intercept,coef,alpha):\n",
    "    predicted_y=np.zeros(x_train.shape[0])\n",
    "    loss=0\n",
    "    lemda=0\n",
    "    num=0\n",
    "    den=0\n",
    "    new_loss=0\n",
    "    for i in range(x_train.shape[0]):\n",
    "        predicted_y[i]=coef*x_train[i]+intercept #y=mx+b\n",
    "        loss+=(y_train[i]-predicted_y[i])**2\n",
    "    for j in range(x_train.shape[1]):\n",
    "        lemda+=coef[j]**2\n",
    "    num=(alpha/(2*x_train.shape[0]))*lemda\n",
    "    den=(1/(2*x_train.shape[0]))*loss\n",
    "    loss=den+num\n",
    "    return loss[0]\n",
    "        "
   ]
  },
  {
   "cell_type": "code",
   "execution_count": 154,
   "id": "c0a0c9dc",
   "metadata": {},
   "outputs": [
    {
     "data": {
      "text/plain": [
       "2.4999999999999996"
      ]
     },
     "execution_count": 154,
     "metadata": {},
     "output_type": "execute_result"
    }
   ],
   "source": [
    "loss_function(x,y,1,np.ones(x.shape[1]),1)"
   ]
  },
  {
   "cell_type": "markdown",
   "id": "6cdb0718",
   "metadata": {},
   "source": [
    "# gradient descent For Ridge"
   ]
  },
  {
   "cell_type": "code",
   "execution_count": 155,
   "id": "ce4bf863",
   "metadata": {},
   "outputs": [],
   "source": [
    "def gradient_descent(x_train,y_train,learning_rate,alpha,intercept,coef):\n",
    "    new_slope=0\n",
    "    new_intercept=0\n",
    "    lemda=0\n",
    "    num=0\n",
    "    predicted_y=np.zeros(x_train.shape[0])\n",
    "    for i in range(x_train.shape[0]):\n",
    "        predicted_y[i]=coef*x_train[i]+intercept #y=mx+b\n",
    "        new_intercept+=y_train[i]-predicted_y[i]\n",
    "        new_slope+=(y_train[i]-predicted_y[i])*x_train[i]\n",
    "    num=(-1/x_train.shape[0])*new_slope\n",
    "    lemda=(alpha/x_train.shape[0])*coef\n",
    "    coef=coef-learning_rate*(num+lemda)\n",
    "    intercept=intercept-learning_rate*(-(1/x_train.shape[0])*new_intercept)\n",
    "    return intercept[0],coef[0]\n"
   ]
  },
  {
   "cell_type": "code",
   "execution_count": 156,
   "id": "87a46153",
   "metadata": {},
   "outputs": [
    {
     "data": {
      "text/plain": [
       "(1.2, 1.6333333333333333)"
      ]
     },
     "execution_count": 156,
     "metadata": {},
     "output_type": "execute_result"
    }
   ],
   "source": [
    "gradient_descent(x,y,learning_rate=0.1,alpha=1,intercept=1,coef=np.ones(x.shape[1]))"
   ]
  },
  {
   "cell_type": "code",
   "execution_count": null,
   "id": "fb0e0806",
   "metadata": {},
   "outputs": [],
   "source": []
  }
 ],
 "metadata": {
  "kernelspec": {
   "display_name": "Python 3 (ipykernel)",
   "language": "python",
   "name": "python3"
  },
  "language_info": {
   "codemirror_mode": {
    "name": "ipython",
    "version": 3
   },
   "file_extension": ".py",
   "mimetype": "text/x-python",
   "name": "python",
   "nbconvert_exporter": "python",
   "pygments_lexer": "ipython3",
   "version": "3.9.13"
  }
 },
 "nbformat": 4,
 "nbformat_minor": 5
}
